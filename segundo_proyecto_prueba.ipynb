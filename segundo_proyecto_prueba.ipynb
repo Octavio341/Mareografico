{
  "nbformat": 4,
  "nbformat_minor": 0,
  "metadata": {
    "colab": {
      "provenance": [],
      "authorship_tag": "ABX9TyPI1NI3lb9Am1puGs4/lmM7",
      "include_colab_link": true
    },
    "kernelspec": {
      "name": "python3",
      "display_name": "Python 3"
    },
    "language_info": {
      "name": "python"
    }
  },
  "cells": [
    {
      "cell_type": "markdown",
      "metadata": {
        "id": "view-in-github",
        "colab_type": "text"
      },
      "source": [
        "<a href=\"https://colab.research.google.com/github/Octavio341/Mareografico/blob/main/segundo_proyecto_prueba.ipynb\" target=\"_parent\"><img src=\"https://colab.research.google.com/assets/colab-badge.svg\" alt=\"Open In Colab\"/></a>"
      ]
    },
    {
      "cell_type": "code",
      "execution_count": null,
      "metadata": {
        "colab": {
          "base_uri": "https://localhost:8080/"
        },
        "id": "_C7xvCpAH95N",
        "outputId": "662409ee-1f6e-4c1a-b72a-7bb843c9a4f3"
      },
      "outputs": [
        {
          "output_type": "stream",
          "name": "stdout",
          "text": [
            "esto es una despedida 1234\n",
            "esto es un saludo eSTO ES UN SALUDO\n"
          ]
        }
      ],
      "source": [
        "Hola=\"eSTO ES UN SALUDO\"\n",
        "ADIOS= 1234\n",
        "\n",
        "print(\"esto es una despedida\",ADIOS)\n",
        "print(\"esto es un saludo\",Hola)"
      ]
    }
  ]
}